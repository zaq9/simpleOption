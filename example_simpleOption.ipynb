{
 "cells": [
  {
   "cell_type": "code",
   "execution_count": 1,
   "metadata": {
    "collapsed": true
   },
   "outputs": [
    {
     "name": "stdout",
     "output_type": "stream",
     "text": [
      "02/P20500@285.49  (nk=20625,IV=20.8%)  jan24 \n"
     ]
    }
   ],
   "source": [
    "from simpleOption import *\n",
    "\n",
    "#Simple Example\n",
    "\n",
    "o = Option('02/P20500')\n",
    "op_price = o.v(20625, 20.8, 20190124)\n",
    "print(f\"{o}@{op_price:.2f}  (nk=20625,IV=20.8%)  jan24 \")"
   ]
  },
  {
   "cell_type": "code",
   "execution_count": 3,
   "metadata": {},
   "outputs": [
    {
     "name": "stdout",
     "output_type": "stream",
     "text": [
      "02/P20500@342.88 (nk=20500,IV=20.8%)  jan24\n02/P20500@703.62 (nk=20000,IV=25%)  jan24\n"
     ]
    }
   ],
   "source": [
    "#underlying change: 20625 >>20500\n",
    "\n",
    "op_price2 = o.v(20500)\n",
    "print(f\"{o}@{op_price2:.2f} (nk=20500,IV=20.8%)  jan24\")\n",
    "\n",
    "op_price3 = o.v(20000, 25)\n",
    "print(f\"{o}@{op_price3:.2f} (nk=20000,IV=25%)  jan24\")\n"
   ]
  },
  {
   "cell_type": "code",
   "execution_count": null,
   "metadata": {},
   "outputs": [],
   "source": []
  }
 ],
 "metadata": {
  "kernelspec": {
   "display_name": "Python 2",
   "language": "python",
   "name": "python2"
  },
  "language_info": {
   "codemirror_mode": {
    "name": "ipython",
    "version": 2
   },
   "file_extension": ".py",
   "mimetype": "text/x-python",
   "name": "python",
   "nbconvert_exporter": "python",
   "pygments_lexer": "ipython2",
   "version": "2.7.6"
  }
 },
 "nbformat": 4,
 "nbformat_minor": 0
}
