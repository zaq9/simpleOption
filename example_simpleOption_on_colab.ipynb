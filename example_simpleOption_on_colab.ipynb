{
  "nbformat": 4,
  "nbformat_minor": 0,
  "metadata": {
    "colab": {
      "name": "example_simpleOption_on_colab.ipynb のコピー",
      "version": "0.3.2",
      "provenance": [],
      "collapsed_sections": [],
      "include_colab_link": true
    },
    "kernelspec": {
      "name": "python3",
      "display_name": "Python 3"
    }
  },
  "cells": [
    {
      "cell_type": "markdown",
      "metadata": {
        "id": "view-in-github",
        "colab_type": "text"
      },
      "source": [
        "<a href=\"https://colab.research.google.com/github/zaq9/simpleOption/blob/master/example_simpleOption_on_colab.ipynb\" target=\"_parent\"><img src=\"https://colab.research.google.com/assets/colab-badge.svg\" alt=\"Open In Colab\"/></a>"
      ]
    },
    {
      "metadata": {
        "id": "erwprDIGA2Mp",
        "colab_type": "code",
        "colab": {}
      },
      "cell_type": "code",
      "source": [
        "\n",
        "!pip install git+https://github.com/zaq9/simpleOption"
      ],
      "execution_count": 0,
      "outputs": []
    },
    {
      "metadata": {
        "id": "hVpQy-Q9A0Ps",
        "colab_type": "code",
        "outputId": "16274e50-9d37-4c13-dc46-f550aaf2b78c",
        "colab": {
          "base_uri": "https://localhost:8080/",
          "height": 34
        }
      },
      "cell_type": "code",
      "source": [
        "from simpleOption import *\n",
        "\n",
        "o = Option('02/P20500')\n",
        "op_price = o.v(20625, 20.8, 20190124)\n",
        "print(f\"{o}@{op_price:.2f}  (nk=20625,IV=20.8%)  jan24 \")"
      ],
      "execution_count": 0,
      "outputs": [
        {
          "output_type": "stream",
          "text": [
            "02/P20500@285.49  (nk=20625,IV=20.8%)  jan24 \n"
          ],
          "name": "stdout"
        }
      ]
    },
    {
      "metadata": {
        "id": "XfXebjsUA0QP",
        "colab_type": "code",
        "outputId": "5161799b-4161-4772-85fa-4f9381e6ed65",
        "colab": {
          "base_uri": "https://localhost:8080/",
          "height": 52
        }
      },
      "cell_type": "code",
      "source": [
        "#underlying change: 20625 >>20500\n",
        "\n",
        "op_price2 = o.v(20500)\n",
        "print(f\"{o}@{op_price2:.2f} (nk=20500,IV=20.8%)  jan24\")\n",
        "\n",
        "op_price3 = o.v(20000, 25)\n",
        "print(f\"{o}@{op_price3:.2f} (nk=20000,IV=25%)  jan24\")\n"
      ],
      "execution_count": 0,
      "outputs": [
        {
          "output_type": "stream",
          "text": [
            "02/P20500@342.88 (nk=20500,IV=20.8%)  jan24\n",
            "02/P20500@703.62 (nk=20000,IV=25%)  jan24\n"
          ],
          "name": "stdout"
        }
      ]
    },
    {
      "metadata": {
        "id": "mPYnelddmtt8",
        "colab_type": "code",
        "colab": {}
      },
      "cell_type": "code",
      "source": [
        ""
      ],
      "execution_count": 0,
      "outputs": []
    }
  ]
}