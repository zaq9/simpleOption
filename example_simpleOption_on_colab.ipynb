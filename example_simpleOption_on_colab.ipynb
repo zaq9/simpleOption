{
  "nbformat": 4,
  "nbformat_minor": 0,
  "metadata": {
    "colab": {
      "name": "example_simpleOption_on_colab.ipynb",
      "version": "0.3.2",
      "provenance": [],
      "include_colab_link": true
    },
    "kernelspec": {
      "name": "python3",
      "display_name": "Python 3"
    }
  },
  "cells": [
    {
      "cell_type": "markdown",
      "metadata": {
        "id": "view-in-github",
        "colab_type": "text"
      },
      "source": [
        "<a href=\"https://colab.research.google.com/github/zaq9/simpleOption/blob/master/example_simpleOption_on_colab.ipynb\" target=\"_parent\"><img src=\"https://colab.research.google.com/assets/colab-badge.svg\" alt=\"Open In Colab\"/></a>"
      ]
    },
    {
      "metadata": {
        "id": "erwprDIGA2Mp",
        "colab_type": "code",
        "outputId": "b057aa21-46a7-4e55-baee-dbfe0d6dfc71",
        "colab": {
          "base_uri": "https://localhost:8080/",
          "height": 248
        }
      },
      "cell_type": "code",
      "source": [
        "\n",
        "!pip install git+https://github.com/zaq9/simpleOption"
      ],
      "execution_count": 0,
      "outputs": [
        {
          "output_type": "stream",
          "text": [
            "Collecting git+https://github.com/zaq9/simpleOption\n",
            "  Cloning https://github.com/zaq9/simpleOption to /tmp/pip-req-build-ag6uochg\n",
            "Requirement already satisfied: parse in /usr/local/lib/python3.6/dist-packages (from simpleOption==0.1.1) (1.11.1)\n",
            "Requirement already satisfied: quantlib-python in /usr/lib/python3/dist-packages (from simpleOption==0.1.1) (1.12)\n",
            "Building wheels for collected packages: simpleOption\n",
            "  Running setup.py bdist_wheel for simpleOption ... \u001b[?25l-\b \bdone\n",
            "\u001b[?25h  Stored in directory: /tmp/pip-ephem-wheel-cache-z3gb4upp/wheels/f2/07/38/609cf31c6627d442f915f45734505bad71a742eb496a6d9bc1\n",
            "Successfully built simpleOption\n",
            "Installing collected packages: simpleOption\n",
            "  Found existing installation: simpleOption 0.1.0\n",
            "    Uninstalling simpleOption-0.1.0:\n",
            "      Successfully uninstalled simpleOption-0.1.0\n",
            "Successfully installed simpleOption-0.1.1\n"
          ],
          "name": "stdout"
        }
      ]
    },
    {
      "metadata": {
        "id": "-u6sU3kQB9Fo",
        "colab_type": "code",
        "colab": {}
      },
      "cell_type": "code",
      "source": [
        "!apt-get install quantlib-python"
      ],
      "execution_count": 0,
      "outputs": []
    },
    {
      "metadata": {
        "collapsed": true,
        "id": "hVpQy-Q9A0Ps",
        "colab_type": "code",
        "outputId": "2f27bed6-d1a8-4ff7-9332-3e510371ad1b",
        "colab": {
          "base_uri": "https://localhost:8080/",
          "height": 35
        }
      },
      "cell_type": "code",
      "source": [
        "from simpleOption.simpleOption import *\n",
        "\n",
        "o = Option('02/P20500')\n",
        "op_price = o.v(20625, 20.8, 20190124)\n",
        "print(f\"{o}@{op_price:.2f}  (nk=20625,IV=20.8%)  jan24 \")"
      ],
      "execution_count": 0,
      "outputs": [
        {
          "output_type": "stream",
          "text": [
            "02/P20500@285.49  (nk=20625,IV=20.8%)  jan24 \n"
          ],
          "name": "stdout"
        }
      ]
    },
    {
      "metadata": {
        "id": "XfXebjsUA0QP",
        "colab_type": "code",
        "outputId": "5d621b06-f24f-4bad-8671-788b5bb40bcf",
        "colab": {
          "base_uri": "https://localhost:8080/",
          "height": 53
        }
      },
      "cell_type": "code",
      "source": [
        "#underlying change: 20625 >>20500\n",
        "\n",
        "op_price2 = o.v(20500)\n",
        "print(f\"{o}@{op_price2:.2f} (nk=20500,IV=20.8%)  jan24\")\n",
        "\n",
        "op_price3 = o.v(20000, 25)\n",
        "print(f\"{o}@{op_price3:.2f} (nk=20000,IV=25%)  jan24\")\n"
      ],
      "execution_count": 0,
      "outputs": [
        {
          "output_type": "stream",
          "text": [
            "02/P20500@342.88 (nk=20500,IV=20.8%)  jan24\n",
            "02/P20500@703.62 (nk=20000,IV=25%)  jan24\n"
          ],
          "name": "stdout"
        }
      ]
    },
    {
      "metadata": {
        "id": "aW4ye_ziA0Qc",
        "colab_type": "code",
        "colab": {}
      },
      "cell_type": "code",
      "source": [
        ""
      ],
      "execution_count": 0,
      "outputs": []
    }
  ]
}