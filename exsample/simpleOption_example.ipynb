{
  "nbformat": 4,
  "nbformat_minor": 0,
  "metadata": {
    "colab": {
      "name": "simpleOption_example.ipynb",
      "version": "0.3.2",
      "provenance": [],
      "collapsed_sections": [],
      "include_colab_link": true
    },
    "kernelspec": {
      "name": "python3",
      "display_name": "Python 3"
    }
  },
  "cells": [
    {
      "cell_type": "markdown",
      "metadata": {
        "id": "view-in-github",
        "colab_type": "text"
      },
      "source": [
        "<a href=\"https://colab.research.google.com/github/zaq9/simpleOption/blob/master/exsample/simpleOption_example.ipynb\" target=\"_parent\"><img src=\"https://colab.research.google.com/assets/colab-badge.svg\" alt=\"Open In Colab\"/></a>"
      ]
    },
    {
      "metadata": {
        "id": "YOXixjyxYnh6",
        "colab_type": "code",
        "colab": {}
      },
      "cell_type": "code",
      "source": [
        "#SimpleOption 利用例\n",
        "\n",
        "#Google Colab　上からブラウザ経由で利用する場合、初回はインストールが必要（約２０秒）\n",
        "!pip install simpleOption"
      ],
      "execution_count": 0,
      "outputs": []
    },
    {
      "metadata": {
        "id": "vNfhGb2nYmhv",
        "colab_type": "code",
        "colab": {
          "base_uri": "https://localhost:8080/",
          "height": 35
        },
        "outputId": "1681b644-51a3-455d-d151-7719833077ca"
      },
      "cell_type": "code",
      "source": [
        "#（例：2月限C21000の理論価格、ギリシャ指標、IV等の求め方）\n",
        "from simpleOption import *\n",
        "\n",
        "op = Option('02/C21000')  \n",
        "op.v(20920, 16 , 20190206) #オプション理論価格：　op.v(原資産価格、IV,評価日[yyyymmdd]　)"
      ],
      "execution_count": 54,
      "outputs": [
        {
          "output_type": "execute_result",
          "data": {
            "text/plain": [
              "65.21929983699263"
            ]
          },
          "metadata": {
            "tags": []
          },
          "execution_count": 54
        }
      ]
    },
    {
      "metadata": {
        "id": "PENSV0SfdLwO",
        "colab_type": "code",
        "colab": {
          "base_uri": "https://localhost:8080/",
          "height": 141
        },
        "outputId": "7991f4bd-6bce-4bc8-a734-decc72da4538"
      },
      "cell_type": "code",
      "source": [
        "# ギリシャ指標等 の表示例\n",
        "print(f'delta= {op.delta():.2}'  ) \n",
        "print(f'gamma= {op.gamma():.2}'  ) \n",
        "print(f'thetaPerDay= {op.thetaPerDay():.2f}'  )\n",
        "print(f'vega= {op.vega():.2f}'  )\n",
        "print(f'NPV= {op.NPV():.2f}'  )  #プレミアム理論値\n",
        "print(f'payoff= {op.pay(21125):.2f}'  )  #SQが21125円時の時の受取額\n",
        "print(f'iv= {op.impliedVolatility(90,process):.2f}'  )  #IV (プレミアム価格90の場合のIV)"
      ],
      "execution_count": 66,
      "outputs": [
        {
          "output_type": "stream",
          "text": [
            "delta= 0.39\n",
            "gamma= 0.0014\n",
            "thetaPerDay= -26.18\n",
            "vega= 598.12\n",
            "NPV= 74.75\n",
            "payoff= 125.00\n",
            "iv= 0.20\n"
          ],
          "name": "stdout"
        }
      ]
    },
    {
      "metadata": {
        "id": "hQ7acpLVc5zg",
        "colab_type": "code",
        "colab": {
          "base_uri": "https://localhost:8080/",
          "height": 35
        },
        "outputId": "859e8217-9956-4b81-f0c3-2737202a5cb3"
      },
      "cell_type": "code",
      "source": [
        "#オプションに年も指定可能（省略された場合は命令実行時の年が補完）　例は東日本大震災時のP8000価格（IV123%）\n",
        "Option('201104/P8000').v(9000, 123,20110317) "
      ],
      "execution_count": 34,
      "outputs": [
        {
          "output_type": "execute_result",
          "data": {
            "text/plain": [
              "600.5561382223586"
            ]
          },
          "metadata": {
            "tags": []
          },
          "execution_count": 34
        }
      ]
    },
    {
      "metadata": {
        "id": "sVMXz0VCly7D",
        "colab_type": "code",
        "colab": {
          "base_uri": "https://localhost:8080/",
          "height": 35
        },
        "outputId": "a84ca50b-3ae5-4ec0-929b-5d1b7c98e0b6"
      },
      "cell_type": "code",
      "source": [
        "setting(underlying=20920,iv=17.6,\tevaluationDate=20190206,rate=0.01) #setting関数 でパラメータ変更も可能）\n",
        "op.v() #パラメータ省略した場合は、その直前に設定されたパラメータが適用される "
      ],
      "execution_count": 64,
      "outputs": [
        {
          "output_type": "execute_result",
          "data": {
            "text/plain": [
              "74.75008911336661"
            ]
          },
          "metadata": {
            "tags": []
          },
          "execution_count": 64
        }
      ]
    },
    {
      "metadata": {
        "id": "hKX1rpXBYmhl",
        "colab_type": "code",
        "outputId": "c357e72b-e871-4e50-fe61-7e6559468c4c",
        "colab": {
          "base_uri": "https://localhost:8080/",
          "height": 283
        }
      },
      "cell_type": "code",
      "source": [
        "#　簡単な複合ポジのグラフ描画例\n",
        "\n",
        "#グラフ描画等に必要なライブラリ読込\n",
        "\n",
        "from simpleOption import *\n",
        "\n",
        "import pandas as pd\n",
        "import numpy as np\n",
        "% matplotlib inline\n",
        "import matplotlib.pyplot as plt\n",
        "import seaborn as sns\n",
        "sns.set_style('darkgrid')\n",
        "\n",
        "\n",
        "p = Portfolio(\n",
        "\"\"\"\n",
        "\t02/C21000[1]\n",
        "\t02/C21250[-2]\n",
        "\t02/C21500[1]\n",
        "\"\"\")\n",
        "\n",
        "x = np.arange(20000, 22000)     #グラフを描く範囲(日経平均価格範囲）\n",
        "setting(20250, 26, 20190204)    #マーケット情報1（IV26％と仮定）\n",
        "plt.plot(x, np.vectorize(p.v)(x), label= 'Batafly_feb04' )\n",
        "\n",
        "setting(evaluationDate=20190207) #日付を7日に経過させたものもグラフ描画\n",
        "plt.plot(x, np.vectorize(p.v)(x), label= 'Batafly_feb07' )\n",
        "\n",
        "\n",
        "plt.plot(x, np.vectorize(p.pay)(x), label= 'Payoff',linestyle=\"dashed\" )\n",
        "plt.legend(loc=\"best\")"
      ],
      "execution_count": 4,
      "outputs": [
        {
          "output_type": "execute_result",
          "data": {
            "text/plain": [
              "<matplotlib.legend.Legend at 0x7f3140a1d278>"
            ]
          },
          "metadata": {
            "tags": []
          },
          "execution_count": 4
        },
        {
          "output_type": "display_data",
          "data": {
            "image/png": "[encoded data removed]",
            "text/plain": [
              "<Figure size 432x288 with 1 Axes>"
            ]
          },
          "metadata": {
            "tags": []
          }
        }
      ]
    }
  ]
}